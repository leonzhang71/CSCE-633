{
 "cells": [
  {
   "cell_type": "code",
   "execution_count": 1,
   "metadata": {},
   "outputs": [],
   "source": [
    "import pandas as pd\n",
    "\n",
    "# Adjust the file path as necessary\n",
    "train_data_path = '/Users/ieon71/Desktop/HW2/data_train-1.csv'  \n",
    "test_data_path = '/Users/ieon71/Desktop/HW2/data_test-1.csv'  \n",
    "#train_data_path = 'data_train-1.csv'\n",
    "#test_data_path = 'data_test-1.csv'\n",
    "\n",
    "train_data = pd.read_csv(train_data_path)\n",
    "test_data = pd.read_csv(test_data_path)\n"
   ]
  },
  {
   "cell_type": "code",
   "execution_count": 2,
   "metadata": {},
   "outputs": [
    {
     "data": {
      "text/html": [
       "<div>\n",
       "<style scoped>\n",
       "    .dataframe tbody tr th:only-of-type {\n",
       "        vertical-align: middle;\n",
       "    }\n",
       "\n",
       "    .dataframe tbody tr th {\n",
       "        vertical-align: top;\n",
       "    }\n",
       "\n",
       "    .dataframe thead th {\n",
       "        text-align: right;\n",
       "    }\n",
       "</style>\n",
       "<table border=\"1\" class=\"dataframe\">\n",
       "  <thead>\n",
       "    <tr style=\"text-align: right;\">\n",
       "      <th></th>\n",
       "      <th>Unnamed: 0</th>\n",
       "      <th>Loan_ID</th>\n",
       "      <th>Gender</th>\n",
       "      <th>Married</th>\n",
       "      <th>Dependents</th>\n",
       "      <th>Education</th>\n",
       "      <th>Self_Employed</th>\n",
       "      <th>ApplicantIncome</th>\n",
       "      <th>CoapplicantIncome</th>\n",
       "      <th>LoanAmount</th>\n",
       "      <th>Loan_Amount_Term</th>\n",
       "      <th>Credit_History</th>\n",
       "      <th>Property_Area</th>\n",
       "      <th>Loan_Status</th>\n",
       "    </tr>\n",
       "  </thead>\n",
       "  <tbody>\n",
       "    <tr>\n",
       "      <th>0</th>\n",
       "      <td>0</td>\n",
       "      <td>LP001518</td>\n",
       "      <td>Male</td>\n",
       "      <td>Yes</td>\n",
       "      <td>1</td>\n",
       "      <td>Graduate</td>\n",
       "      <td>No</td>\n",
       "      <td>1538</td>\n",
       "      <td>1425.0</td>\n",
       "      <td>30.0</td>\n",
       "      <td>360.0</td>\n",
       "      <td>1.0</td>\n",
       "      <td>Urban</td>\n",
       "      <td>Y</td>\n",
       "    </tr>\n",
       "    <tr>\n",
       "      <th>1</th>\n",
       "      <td>1</td>\n",
       "      <td>LP002734</td>\n",
       "      <td>Male</td>\n",
       "      <td>Yes</td>\n",
       "      <td>0</td>\n",
       "      <td>Graduate</td>\n",
       "      <td>No</td>\n",
       "      <td>6133</td>\n",
       "      <td>3906.0</td>\n",
       "      <td>324.0</td>\n",
       "      <td>360.0</td>\n",
       "      <td>1.0</td>\n",
       "      <td>Urban</td>\n",
       "      <td>Y</td>\n",
       "    </tr>\n",
       "    <tr>\n",
       "      <th>2</th>\n",
       "      <td>2</td>\n",
       "      <td>LP002697</td>\n",
       "      <td>Male</td>\n",
       "      <td>No</td>\n",
       "      <td>0</td>\n",
       "      <td>Graduate</td>\n",
       "      <td>No</td>\n",
       "      <td>4680</td>\n",
       "      <td>2087.0</td>\n",
       "      <td>NaN</td>\n",
       "      <td>360.0</td>\n",
       "      <td>1.0</td>\n",
       "      <td>Semiurban</td>\n",
       "      <td>N</td>\n",
       "    </tr>\n",
       "    <tr>\n",
       "      <th>3</th>\n",
       "      <td>3</td>\n",
       "      <td>LP002455</td>\n",
       "      <td>Male</td>\n",
       "      <td>Yes</td>\n",
       "      <td>2</td>\n",
       "      <td>Graduate</td>\n",
       "      <td>No</td>\n",
       "      <td>3859</td>\n",
       "      <td>0.0</td>\n",
       "      <td>96.0</td>\n",
       "      <td>360.0</td>\n",
       "      <td>1.0</td>\n",
       "      <td>Semiurban</td>\n",
       "      <td>Y</td>\n",
       "    </tr>\n",
       "    <tr>\n",
       "      <th>4</th>\n",
       "      <td>4</td>\n",
       "      <td>LP001732</td>\n",
       "      <td>Male</td>\n",
       "      <td>Yes</td>\n",
       "      <td>2</td>\n",
       "      <td>Graduate</td>\n",
       "      <td>NaN</td>\n",
       "      <td>5000</td>\n",
       "      <td>0.0</td>\n",
       "      <td>72.0</td>\n",
       "      <td>360.0</td>\n",
       "      <td>0.0</td>\n",
       "      <td>Semiurban</td>\n",
       "      <td>N</td>\n",
       "    </tr>\n",
       "  </tbody>\n",
       "</table>\n",
       "</div>"
      ],
      "text/plain": [
       "   Unnamed: 0   Loan_ID Gender Married Dependents Education Self_Employed  \\\n",
       "0           0  LP001518   Male     Yes          1  Graduate            No   \n",
       "1           1  LP002734   Male     Yes          0  Graduate            No   \n",
       "2           2  LP002697   Male      No          0  Graduate            No   \n",
       "3           3  LP002455   Male     Yes          2  Graduate            No   \n",
       "4           4  LP001732   Male     Yes          2  Graduate           NaN   \n",
       "\n",
       "   ApplicantIncome  CoapplicantIncome  LoanAmount  Loan_Amount_Term  \\\n",
       "0             1538             1425.0        30.0             360.0   \n",
       "1             6133             3906.0       324.0             360.0   \n",
       "2             4680             2087.0         NaN             360.0   \n",
       "3             3859                0.0        96.0             360.0   \n",
       "4             5000                0.0        72.0             360.0   \n",
       "\n",
       "   Credit_History Property_Area Loan_Status  \n",
       "0             1.0         Urban           Y  \n",
       "1             1.0         Urban           Y  \n",
       "2             1.0     Semiurban           N  \n",
       "3             1.0     Semiurban           Y  \n",
       "4             0.0     Semiurban           N  "
      ]
     },
     "execution_count": 2,
     "metadata": {},
     "output_type": "execute_result"
    }
   ],
   "source": [
    "train_data.head()"
   ]
  },
  {
   "cell_type": "markdown",
   "metadata": {},
   "source": [
    "There are 14 columns in the table. The last column is the label, the first column is the row number, and the remaining 12 columns are attributes"
   ]
  },
  {
   "cell_type": "code",
   "execution_count": 3,
   "metadata": {},
   "outputs": [],
   "source": [
    "# Drop the unnamed and loan_id, load_id is irrelevent to the result\n",
    "train_data = train_data.drop(['Unnamed: 0', 'Loan_ID'],axis=1)\n",
    "test_data = test_data.drop(['Unnamed: 0', 'Loan_ID'],axis=1)"
   ]
  },
  {
   "cell_type": "code",
   "execution_count": 4,
   "metadata": {},
   "outputs": [
    {
     "name": "stdout",
     "output_type": "stream",
     "text": [
      "Shape of Training Data: (491, 12)\n",
      "Shape of Test Data: (123, 11)\n"
     ]
    }
   ],
   "source": [
    "print(f\"Shape of Training Data: {train_data.shape}\")\n",
    "print(f\"Shape of Test Data: {test_data.shape}\")"
   ]
  },
  {
   "cell_type": "code",
   "execution_count": 5,
   "metadata": {},
   "outputs": [
    {
     "data": {
      "text/plain": [
       "(Gender               12\n",
       " Married               3\n",
       " Dependents           13\n",
       " Education             0\n",
       " Self_Employed        29\n",
       " ApplicantIncome       0\n",
       " CoapplicantIncome     0\n",
       " LoanAmount           17\n",
       " Loan_Amount_Term     12\n",
       " Credit_History       43\n",
       " Property_Area         0\n",
       " Loan_Status           0\n",
       " dtype: int64,\n",
       " Gender               1\n",
       " Married              0\n",
       " Dependents           2\n",
       " Education            0\n",
       " Self_Employed        3\n",
       " ApplicantIncome      0\n",
       " CoapplicantIncome    0\n",
       " LoanAmount           5\n",
       " Loan_Amount_Term     2\n",
       " Credit_History       7\n",
       " Property_Area        0\n",
       " dtype: int64)"
      ]
     },
     "execution_count": 5,
     "metadata": {},
     "output_type": "execute_result"
    }
   ],
   "source": [
    "train_data.isnull().sum(),test_data.isnull().sum()"
   ]
  },
  {
   "cell_type": "code",
   "execution_count": 6,
   "metadata": {},
   "outputs": [
    {
     "data": {
      "text/plain": [
       "((491, 12), (107, 11))"
      ]
     },
     "execution_count": 6,
     "metadata": {},
     "output_type": "execute_result"
    }
   ],
   "source": [
    "train_data_cleaned = train_data.dropna()\n",
    "train_data_cleaned.head()\n",
    "test_data = test_data.dropna()\n",
    "train_data.shape, test_data.shape"
   ]
  },
  {
   "cell_type": "code",
   "execution_count": 7,
   "metadata": {},
   "outputs": [],
   "source": [
    "X_train = train_data_cleaned.drop(['Loan_Status'], axis=1) \n",
    "y_train = train_data_cleaned['Loan_Status']"
   ]
  },
  {
   "cell_type": "code",
   "execution_count": 8,
   "metadata": {},
   "outputs": [
    {
     "data": {
      "image/png": "[encoded data removed]",
      "text/plain": [
       "<Figure size 2000x1500 with 6 Axes>"
      ]
     },
     "metadata": {},
     "output_type": "display_data"
    }
   ],
   "source": [
    "import matplotlib.pyplot as plt\n",
    "\n",
    "train_data_cleaned.hist(bins=50, figsize=(20,15))\n",
    "plt.show()\n"
   ]
  },
  {
   "cell_type": "code",
   "execution_count": 9,
   "metadata": {},
   "outputs": [
    {
     "name": "stdout",
     "output_type": "stream",
     "text": [
      "Gender                object\n",
      "Married               object\n",
      "Dependents            object\n",
      "Education             object\n",
      "Self_Employed         object\n",
      "ApplicantIncome        int64\n",
      "CoapplicantIncome    float64\n",
      "LoanAmount           float64\n",
      "Loan_Amount_Term     float64\n",
      "Credit_History       float64\n",
      "Property_Area         object\n",
      "dtype: object\n"
     ]
    }
   ],
   "source": [
    "print(X_train.dtypes)"
   ]
  },
  {
   "cell_type": "code",
   "execution_count": 10,
   "metadata": {},
   "outputs": [
    {
     "data": {
      "text/plain": [
       "Gender                 int64\n",
       "Married                int64\n",
       "Dependents             int64\n",
       "Education              int64\n",
       "Self_Employed          int64\n",
       "ApplicantIncome        int64\n",
       "CoapplicantIncome    float64\n",
       "LoanAmount           float64\n",
       "Loan_Amount_Term     float64\n",
       "Credit_History       float64\n",
       "Property_Area          int64\n",
       "dtype: object"
      ]
     },
     "execution_count": 10,
     "metadata": {},
     "output_type": "execute_result"
    }
   ],
   "source": [
    "from sklearn.preprocessing import LabelEncoder\n",
    "var_names = ['Gender','Married','Dependents','Education','Self_Employed','Property_Area']\n",
    "for name in var_names:\n",
    "    le = LabelEncoder()\n",
    "    X_train[name] = le.fit_transform(X_train[name])\n",
    "    test_data[name] = le.transform(test_data[name])\n",
    "\n",
    "le = LabelEncoder()\n",
    "y_train = le.fit_transform(y_train)\n",
    "X_train.dtypes"
   ]
  },
  {
   "cell_type": "markdown",
   "metadata": {},
   "source": [
    "We use label encoding because these variables are all categorical variables."
   ]
  },
  {
   "cell_type": "code",
   "execution_count": 11,
   "metadata": {},
   "outputs": [],
   "source": [
    "def gini_index(groups, classes): \n",
    "    cnt = float(sum([len(group) for group in groups])) \n",
    "    gini = 0.0\n",
    "    for group in groups:\n",
    "        if len(group) == 0:\n",
    "            continue\n",
    "        score = 0.0\n",
    "        for class_val in classes:\n",
    "            p = [row[-1] for row in group].count(class_val) / float(len(group))\n",
    "            score += p * p \n",
    "        gini += (1.0 - score) * (float(len(group)) / cnt)\n",
    "    return gini\n",
    "\n",
    "\n",
    "def make_leaf_node(group):\n",
    "    labels = [row[-1] for row in group]\n",
    "    return max(labels, key=labels.count)\n",
    "\n",
    "def make_split(dataset):\n",
    "    class_values = list(set(row[-1] for row in dataset))\n",
    "    best_index, best_val, best_score, best_groups = None, None, None, None\n",
    "    for index in range(len(dataset[0])-1):\n",
    "        for row in dataset:\n",
    "            left, right = list(), list()\n",
    "            value = row[index]\n",
    "            for _row in dataset:\n",
    "                if _row[index] < value:\n",
    "                    left.append(_row)\n",
    "                else:\n",
    "                    right.append(_row)\n",
    "            groups = (left, right)\n",
    "            gini_score = gini_index(groups, class_values)\n",
    "            if best_score is None or gini_score < best_score:\n",
    "                best_index, best_val, best_score, best_groups = index, row[index], gini_score, groups\n",
    "    return {'index':best_index, 'value':best_val, 'groups':best_groups}\n",
    "\n",
    "\n",
    "def split(node, max_depth, min_size, depth):\n",
    "    left, right = node['groups']\n",
    "\n",
    "    if len(left) == 0 or len(right) == 0:\n",
    "        node['left'] = node['right'] = make_leaf_node(left + right)\n",
    "        return\n",
    "\n",
    "    if depth >= max_depth:\n",
    "        node['left'], node['right'] = make_leaf_node(left), make_leaf_node(right)\n",
    "        return\n",
    "\n",
    "    if len(left) <= min_size:\n",
    "        node['left'] = make_leaf_node(left)\n",
    "    else:\n",
    "        node['left'] = make_split(left)\n",
    "        split(node['left'], max_depth, min_size, depth+1)\n",
    "\n",
    "    if len(right) <= min_size:\n",
    "        node['right'] = make_leaf_node(right)\n",
    "    else:\n",
    "        node['right'] = make_split(right)\n",
    "        split(node['right'], max_depth, min_size, depth+1)\n",
    "\n",
    "def build_tree(train, max_depth, min_size):\n",
    "    root = make_split(train)\n",
    "    split(root, max_depth, min_size, 1)\n",
    "    return root\n",
    "\n",
    "\n",
    "def predict(node, row):\n",
    "    if not isinstance(node, dict):\n",
    "        return node\n",
    "    if row[node['index']] < node['value']:\n",
    "        return predict(node['left'], row)\n",
    "    else:\n",
    "        return predict(node['right'], row)\n",
    "\n"
   ]
  },
  {
   "cell_type": "code",
   "execution_count": 12,
   "metadata": {},
   "outputs": [],
   "source": [
    "import numpy as np\n",
    "from sklearn.model_selection import train_test_split\n",
    "\n",
    "X_train_part, X_val, y_train_part, y_val = train_test_split(X_train, y_train, test_size=0.2, random_state=42)\n",
    "\n",
    "train_set = pd.concat([X_train_part.reset_index(drop=True), pd.DataFrame(y_train_part)], axis=1).values.tolist()\n",
    "validation_set = pd.concat([X_val.reset_index(drop=True), pd.DataFrame(y_val)], axis=1).values.tolist()\n",
    "\n",
    "tree = build_tree(train_set, max_depth=5, min_size=10)\n",
    "\n",
    "predictions = [predict(tree, row) for row in validation_set]\n"
   ]
  },
  {
   "cell_type": "code",
   "execution_count": 13,
   "metadata": {},
   "outputs": [
    {
     "data": {
      "text/plain": [
       "0.7733333333333333"
      ]
     },
     "execution_count": 13,
     "metadata": {},
     "output_type": "execute_result"
    }
   ],
   "source": [
    "sum(y_val == predictions) / len(predictions)"
   ]
  },
  {
   "cell_type": "markdown",
   "metadata": {},
   "source": [
    "Accucary in validation set is 77%."
   ]
  },
  {
   "cell_type": "code",
   "execution_count": 14,
   "metadata": {},
   "outputs": [],
   "source": [
    "test_data_list = test_data.values.tolist()\n",
    "\n",
    "predictions = [int(predict(tree, row)) for row in test_data_list]\n",
    "predictions = le.inverse_transform(predictions)\n",
    "pred_df = pd.DataFrame(predictions, columns=['pred_tree'])\n",
    "pred_df.to_csv('FirstName_LastName_preds.csv', index=False)\n"
   ]
  },
  {
   "cell_type": "markdown",
   "metadata": {},
   "source": [
    "### Part B"
   ]
  },
  {
   "cell_type": "code",
   "execution_count": 15,
   "metadata": {},
   "outputs": [
    {
     "name": "stdout",
     "output_type": "stream",
     "text": [
      "{0.001: 0.7704603174603175, 0.01: 0.7596428571428572, 0.1: 0.7658703703703704, 1: 0.773420634920635, 10: 0.7923597883597884, 100: 0.7863783068783069, 1000: 0.748568783068783}\n"
     ]
    }
   ],
   "source": [
    "import xgboost as xgb\n",
    "from sklearn.model_selection import cross_val_score\n",
    "from sklearn.metrics import roc_auc_score, make_scorer\n",
    "\n",
    "def train_xgboost(X_train, y_train, lambdas):\n",
    "    auc_scores = {}\n",
    "    for lam in lambdas:\n",
    "        model = xgb.XGBClassifier(reg_lambda=lam)\n",
    "        auc = cross_val_score(model, X_train, y_train, scoring=make_scorer(roc_auc_score, needs_proba=True), cv=10).mean()\n",
    "        auc_scores[lam] = auc\n",
    "    return auc_scores\n",
    "\n",
    "lambdas = [1e-3, 1e-2, 1e-1, 1, 10, 100, 1000]\n",
    "\n",
    "auc_scores = train_xgboost(X_train_part, y_train_part, lambdas)\n",
    "print(auc_scores)\n"
   ]
  },
  {
   "cell_type": "code",
   "execution_count": 16,
   "metadata": {},
   "outputs": [],
   "source": [
    "optimal_lambda = max(auc_scores, key=auc_scores.get)\n",
    "best_model = xgb.XGBClassifier(reg_lambda=optimal_lambda)\n",
    "best_model.fit(X_train_part, y_train_part)\n",
    "y_pred = best_model.predict_proba(X_val)[:, 1]\n"
   ]
  },
  {
   "cell_type": "code",
   "execution_count": 17,
   "metadata": {},
   "outputs": [
    {
     "data": {
      "image/png": "[encoded data removed]",
      "text/plain": [
       "<Figure size 640x480 with 1 Axes>"
      ]
     },
     "metadata": {},
     "output_type": "display_data"
    }
   ],
   "source": [
    "from sklearn.metrics import roc_curve, auc\n",
    "import matplotlib.pyplot as plt\n",
    "\n",
    "fpr, tpr, _ = roc_curve(y_val, y_pred)\n",
    "roc_auc = auc(fpr, tpr)\n",
    "\n",
    "plt.figure()\n",
    "plt.plot(fpr, tpr, label='ROC curve (area = %0.2f)' % roc_auc)\n",
    "plt.plot([0, 1], [0, 1], 'k--')\n",
    "plt.xlim([0.0, 1.0])\n",
    "plt.ylim([0.0, 1.05])\n",
    "plt.xlabel('False Positive Rate')\n",
    "plt.ylabel('True Positive Rate')\n",
    "plt.title('ROC')\n",
    "plt.legend(loc=\"lower right\")\n",
    "plt.show()\n"
   ]
  },
  {
   "cell_type": "code",
   "execution_count": 18,
   "metadata": {},
   "outputs": [
    {
     "data": {
      "text/plain": [
       "0.7466666666666667"
      ]
     },
     "execution_count": 18,
     "metadata": {},
     "output_type": "execute_result"
    }
   ],
   "source": [
    "y_pred = best_model.predict(X_val) \n",
    "\n",
    "sum(y_val ==  y_pred)/len(y_val)"
   ]
  },
  {
   "cell_type": "markdown",
   "metadata": {},
   "source": [
    "From the perspective of accuracy, we should choose the parta part of the model. This may be because the relationship between the data is not complicated."
   ]
  },
  {
   "cell_type": "code",
   "execution_count": 19,
   "metadata": {},
   "outputs": [],
   "source": [
    "test_predictions = best_model.predict(test_data)  \n",
    "original_labels = le.inverse_transform(test_predictions)\n",
    "\n",
    "predictions_df = pd.DataFrame(original_labels, columns=['pred_xgboost'])\n",
    "predictions_df = pd.concat([predictions_df, pred_df], axis = 1)\n",
    "predictions_df.to_csv('FirstName_LastName_preds.csv', index=False)\n"
   ]
  },
  {
   "cell_type": "code",
   "execution_count": null,
   "metadata": {},
   "outputs": [],
   "source": []
  },
  {
   "cell_type": "code",
   "execution_count": null,
   "metadata": {},
   "outputs": [],
   "source": []
  }
 ],
 "metadata": {
  "kernelspec": {
   "display_name": "Python 3",
   "language": "python",
   "name": "python3"
  },
  "language_info": {
   "codemirror_mode": {
    "name": "ipython",
    "version": 3
   },
   "file_extension": ".py",
   "mimetype": "text/x-python",
   "name": "python",
   "nbconvert_exporter": "python",
   "pygments_lexer": "ipython3",
   "version": "3.9.13"
  }
 },
 "nbformat": 4,
 "nbformat_minor": 2
}
