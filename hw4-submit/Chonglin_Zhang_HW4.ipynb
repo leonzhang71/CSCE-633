{
 "cells": [
  {
   "cell_type": "markdown",
   "id": "16f91572-5c58-46a3-8c24-6f72d96f4f14",
   "metadata": {},
   "source": [
    "## Question 1: Convolution Operation (30 points)"
   ]
  },
  {
   "cell_type": "markdown",
   "id": "0ae5cfe3-5c28-46f9-a1c4-5b50143f45fa",
   "metadata": {},
   "source": [
    "#### I implement convolution and max pooling operations using separate functions.\n",
    "\n",
    "\n",
    "\n"
   ]
  },
  {
   "cell_type": "code",
   "execution_count": 1,
   "id": "312abb12-458a-493f-8dab-90262b285b2f",
   "metadata": {},
   "outputs": [],
   "source": [
    "import numpy as np\n",
    "def Conv_Operation(x, conv_kernel, stride=1, padding=0, pad_value=0):\n",
    "    if padding>0:\n",
    "        x = np.pad(x,((padding,padding),(padding,padding)),'constant', constant_values = (pad_value,pad_value))\n",
    "    h, w = x.shape\n",
    "    f_h, f_w = conv_kernel.shape\n",
    "    new_h = (h-f_h)//stride+1\n",
    "    new_w = (w-f_w)//stride+1\n",
    "    result = np.zeros((new_h, new_w ))\n",
    "    for i in range(new_h):\n",
    "        for j in range(new_w):\n",
    "            block=x[i:i+f_h, j:j+f_w]\n",
    "            result[i][j]+=(conv_kernel*block).sum()\n",
    "    return result\n",
    "\n",
    "def Maxpooling_Operation(x, pooling_size ,stride=1, padding=0, pad_value=0):\n",
    "    if padding>0:\n",
    "        x = np.pad(x,((padding,padding),(padding,padding)),'constant', constant_values = (pad_value,pad_value))\n",
    "    h, w = x.shape\n",
    "    new_h = (h-pooling_size)//stride+1\n",
    "    new_w = (w-pooling_size)//stride+1\n",
    "    result = np.zeros((new_h, new_w ))\n",
    "    for i in range(new_h):\n",
    "        for j in range(new_w):\n",
    "            block=x[i:i+pooling_size, j:j+pooling_size]\n",
    "            result[i][j]=np.max(block)\n",
    "    return result"
   ]
  },
  {
   "cell_type": "code",
   "execution_count": 2,
   "id": "3c4debbc-a879-4c69-8858-463c61afaca3",
   "metadata": {},
   "outputs": [],
   "source": [
    "input_array = np.array([\n",
    "    [0,2,4,1,0],\n",
    "    [3,1,1,0,1],\n",
    "    [2,4,1,0,1],\n",
    "    [2,0,5,2,2],\n",
    "    [0,1,3,2,1]\n",
    "])\n",
    "filter_array = np.array([\n",
    "    [1,0,-1],\n",
    "    [1,0,-1],\n",
    "    [1,0,-1]\n",
    "])"
   ]
  },
  {
   "cell_type": "markdown",
   "id": "d2ac8c39-06e3-477c-b95d-c8e18a1b10f6",
   "metadata": {},
   "source": [
    "### Convolution with stride of 1"
   ]
  },
  {
   "cell_type": "code",
   "execution_count": 3,
   "id": "7e99175a-a2e0-4662-beee-3283a387a8ca",
   "metadata": {},
   "outputs": [
    {
     "data": {
      "text/plain": [
       "array([[-1.,  6.,  4.],\n",
       "       [ 0.,  3.,  3.],\n",
       "       [-5.,  1.,  5.]])"
      ]
     },
     "execution_count": 3,
     "metadata": {},
     "output_type": "execute_result"
    }
   ],
   "source": [
    "Conv_Operation(input_array, filter_array, stride=1)"
   ]
  },
  {
   "cell_type": "markdown",
   "id": "e36c80aa-2aa4-45cc-880c-325f17f8b5b7",
   "metadata": {},
   "source": [
    "### Zero padding of 1 + convolution with stride of 1"
   ]
  },
  {
   "cell_type": "code",
   "execution_count": 4,
   "id": "c5425d34-d144-4329-9e3f-b4c467414976",
   "metadata": {},
   "outputs": [
    {
     "data": {
      "text/plain": [
       "array([[-3., -2.,  2.,  4.,  1.],\n",
       "       [-7., -1.,  6.,  4.,  1.],\n",
       "       [-5.,  0.,  3.,  3.,  2.],\n",
       "       [-5., -5.,  1.,  5.,  4.],\n",
       "       [-1., -6., -3.,  5.,  4.]])"
      ]
     },
     "execution_count": 4,
     "metadata": {},
     "output_type": "execute_result"
    }
   ],
   "source": [
    "Conv_Operation(input_array, filter_array, stride=1, padding=1, pad_value=0)"
   ]
  },
  {
   "cell_type": "markdown",
   "id": "f4a17c6b-3f8c-4040-a6f2-1b8b05fac1f2",
   "metadata": {},
   "source": [
    "### Zero padding of 2 + convolution with stride of 2"
   ]
  },
  {
   "cell_type": "code",
   "execution_count": 5,
   "id": "0488a837-e3d0-40ec-85d2-d5ec230f080a",
   "metadata": {},
   "outputs": [
    {
     "data": {
      "text/plain": [
       "array([[ 0., -2., -4.,  1.],\n",
       "       [-3., -3., -2.,  2.],\n",
       "       [-5., -7., -1.,  6.],\n",
       "       [-7., -5.,  0.,  3.]])"
      ]
     },
     "execution_count": 5,
     "metadata": {},
     "output_type": "execute_result"
    }
   ],
   "source": [
    "Conv_Operation(input_array, filter_array, stride=2, padding=2, pad_value=0)"
   ]
  },
  {
   "cell_type": "markdown",
   "id": "f089ae1a-e2d3-458f-a401-77b117afa9b6",
   "metadata": {},
   "source": [
    "### Convolution with stride of 1 + max pooling of 3 with stride of 1"
   ]
  },
  {
   "cell_type": "code",
   "execution_count": 6,
   "id": "700699fd-7aa3-4fe7-9d9e-6f233128858d",
   "metadata": {},
   "outputs": [
    {
     "data": {
      "text/plain": [
       "array([[6.]])"
      ]
     },
     "execution_count": 6,
     "metadata": {},
     "output_type": "execute_result"
    }
   ],
   "source": [
    "y = Conv_Operation(input_array, filter_array, stride=1)\n",
    "Maxpooling_Operation(y, pooling_size=3, stride=1)"
   ]
  },
  {
   "cell_type": "markdown",
   "id": "6017b304-2c60-4052-b820-3ef08f194dd0",
   "metadata": {},
   "source": [
    "### Zero padding of 2 + convolution with stride of 1 + max pooling of 3 with stride of 1"
   ]
  },
  {
   "cell_type": "code",
   "execution_count": 7,
   "id": "702caed5-c9aa-4f31-843c-171304453945",
   "metadata": {},
   "outputs": [
    {
     "data": {
      "text/plain": [
       "array([[0., 6., 6., 6., 4.],\n",
       "       [0., 6., 6., 6., 4.],\n",
       "       [0., 6., 6., 6., 5.],\n",
       "       [0., 3., 5., 5., 5.],\n",
       "       [0., 1., 5., 5., 5.]])"
      ]
     },
     "execution_count": 7,
     "metadata": {},
     "output_type": "execute_result"
    }
   ],
   "source": [
    "y = Conv_Operation(input_array, filter_array, stride=1, padding=2, pad_value=0)\n",
    "Maxpooling_Operation(y, pooling_size=3, stride=1)"
   ]
  },
  {
   "cell_type": "markdown",
   "id": "87225241",
   "metadata": {},
   "source": [
    "# Question 2: Image Classification using CNN in Pytorch (70 points)"
   ]
  },
  {
   "cell_type": "code",
   "execution_count": 8,
   "id": "f6a14c1a",
   "metadata": {
    "scrolled": true
   },
   "outputs": [],
   "source": [
    "import torch\n",
    "import torch.nn as nn\n",
    "import numpy as np\n",
    "from torch.utils.data import Dataset\n",
    "import torchvision.transforms as transforms\n",
    "from torch.utils.data import DataLoader\n",
    "from sklearn.model_selection import train_test_split\n",
    "from tqdm import tqdm\n",
    "import matplotlib.pyplot as plt"
   ]
  },
  {
   "cell_type": "markdown",
   "id": "a13a04b5",
   "metadata": {},
   "source": [
    "#### Below are some hyperparameters. It is advisable to place them uniformly at the top of the document for ease of modification."
   ]
  },
  {
   "cell_type": "code",
   "execution_count": 9,
   "id": "f07c50eb",
   "metadata": {},
   "outputs": [],
   "source": [
    "seed=42\n",
    "batch_size=64\n",
    "num_epochs=10\n"
   ]
  },
  {
   "cell_type": "markdown",
   "id": "4bd1c7ab",
   "metadata": {},
   "source": [
    "## (b) Data Exploration Pick one example from each digit and visualize them. Count the number of samples per digit in the original training data. Is the data distribution balanced?\n",
    "#### I will first address question 2(b) because, following the typical modeling process, it is necessary to conduct preliminary data analysis upon receiving the data. It is notable that the data obtained from the file 'x_train.npy' has dimensions of (60000, 784), so I will first resize it to (60000, 28, 28)."
   ]
  },
  {
   "cell_type": "code",
   "execution_count": 10,
   "id": "0354f629",
   "metadata": {},
   "outputs": [
    {
     "name": "stdout",
     "output_type": "stream",
     "text": [
      "The original dimension: (60000, 784)\n",
      "The new dimension: (60000, 28, 28)\n"
     ]
    },
    {
     "data": {
      "image/png": "[encoded data removed]",
      "text/plain": [
       "<Figure size 640x480 with 10 Axes>"
      ]
     },
     "metadata": {},
     "output_type": "display_data"
    },
    {
     "name": "stdout",
     "output_type": "stream",
     "text": [
      "The number of samples for digit 0~9 are [5923, 6742, 5958, 6131, 5842, 5421, 5918, 6265, 5851, 5949]\n",
      "The number of samples is : 60000\n"
     ]
    }
   ],
   "source": [
    "img_train=np.load('x_train.npy')\n",
    "print(f'The original dimension: {img_train.shape}')\n",
    "img_train.resize(img_train.shape[0], 28, 28)\n",
    "print(f'The new dimension: {img_train.shape}')\n",
    "\n",
    "label_train=np.load('y_train.npy')\n",
    "x_test = np.load('x_test.npy')\n",
    "number_of_class = []\n",
    "example_of_data=[]\n",
    "for i in range(10):\n",
    "    tmp = np.where(label_train == i)[0]\n",
    "    number_of_class.append(len(tmp))\n",
    "    example_of_data.append(img_train[tmp[0]])\n",
    "\n",
    "\n",
    "for i in range(10):\n",
    "    plt.subplot(2, 5, i + 1)\n",
    "    plt.imshow(example_of_data[i], cmap='gray', interpolation='none')\n",
    "    plt.title(\"Digit:{}\".format(i))\n",
    "    plt.xticks([])\n",
    "    plt.yticks([])\n",
    "plt.show()\n",
    "print(f'The number of samples for digit 0~9 are {number_of_class}')\n",
    "print(f'The number of samples is : {sum(number_of_class)}')"
   ]
  },
  {
   "cell_type": "markdown",
   "id": "0e197b80",
   "metadata": {},
   "source": [
    "#### The distribution of the training set is not perfectly balanced, with a difference of 1321 samples between the class with the highest and lowest counts. With a total of 60,000 samples across 10 classes, the average count per class is 6000. It is notable that the sample counts for each class fall within the range of 5000 to 7000, which is relatively close to the average. Therefore, the distribution of the training set can be considered relatively balanced."
   ]
  },
  {
   "cell_type": "markdown",
   "id": "380c8944",
   "metadata": {},
   "source": [
    "## (c) Data Split Split original training data into 80% for training and 20% validation datasets.\n",
    "\n",
    "#### Next, I will address question 2(c) by partitioning the dataset. This will facilitate subsequent data loading tasks."
   ]
  },
  {
   "cell_type": "code",
   "execution_count": 11,
   "id": "fc89ebbd",
   "metadata": {},
   "outputs": [
    {
     "name": "stdout",
     "output_type": "stream",
     "text": [
      "The training set contains 48000 samples, while the validation set contains 12000 samples.\n"
     ]
    }
   ],
   "source": [
    "x_train,x_val,y_train,y_val=train_test_split(img_train,label_train,test_size=0.2,random_state=seed)\n",
    "print(f'The training set contains {len(x_train)} samples, while the validation set contains {len(x_val)} samples.')"
   ]
  },
  {
   "cell_type": "markdown",
   "id": "def1a830",
   "metadata": {},
   "source": [
    "## (a) Dataloader Download the MNIST train and test dataset on Canvas. Implement a dataloader with batch size and validation size as arguments.\n",
    "\n",
    "#### Next, I address question2(a). I will begin by implementing a class for the Dataset."
   ]
  },
  {
   "cell_type": "code",
   "execution_count": 12,
   "id": "8e197181",
   "metadata": {},
   "outputs": [],
   "source": [
    "class My_dataset(Dataset):\n",
    "    def __init__(self,imgs, labels, transform=None):\n",
    "        self.data = imgs.astype(np.float32)\n",
    "        self.label = labels\n",
    "        self.transform = transform\n",
    "\n",
    "    def __len__(self):\n",
    "        return len(self.data)\n",
    "\n",
    "    def __getitem__(self, idx):\n",
    "        each_data = self.data[idx]\n",
    "        each_label = self.label[idx]\n",
    "        each_data = self.transform(each_data)\n",
    "        return each_data, each_label\n",
    "\n",
    "\n",
    "transform = transforms.Compose([\n",
    "    transforms.ToTensor(),\n",
    "    ])"
   ]
  },
  {
   "cell_type": "markdown",
   "id": "3e56db12",
   "metadata": {},
   "source": [
    "#### Next, I use the DataLoader to load the data, with the batch size defined as a hyperparameter at the beginning of this document. The default batch size is 64, and I print it five times to confirm its value"
   ]
  },
  {
   "cell_type": "code",
   "execution_count": 13,
   "id": "b3cf50b3",
   "metadata": {},
   "outputs": [
    {
     "name": "stdout",
     "output_type": "stream",
     "text": [
      "batch#=0, X.shape=torch.Size([64, 1, 28, 28]); y.shape=torch.Size([64])\n",
      "batch#=1, X.shape=torch.Size([64, 1, 28, 28]); y.shape=torch.Size([64])\n",
      "batch#=2, X.shape=torch.Size([64, 1, 28, 28]); y.shape=torch.Size([64])\n",
      "batch#=3, X.shape=torch.Size([64, 1, 28, 28]); y.shape=torch.Size([64])\n",
      "batch#=4, X.shape=torch.Size([64, 1, 28, 28]); y.shape=torch.Size([64])\n"
     ]
    }
   ],
   "source": [
    "train_dataset = My_dataset(x_train, y_train, transform=transform)\n",
    "val_dataset = My_dataset(x_val,y_val, transform=transform)\n",
    "train_dataloader = DataLoader(dataset=train_dataset, batch_size=batch_size, shuffle=True,\n",
    "                                    pin_memory=True)\n",
    "val_dataloader = DataLoader(dataset=val_dataset, batch_size=batch_size, shuffle=False,\n",
    "                                    pin_memory=True)\n",
    "\n",
    "for idx, (images, labels) in enumerate(train_dataloader):\n",
    "    print(f\"batch#={idx}, X.shape={images.shape}; y.shape={labels.shape}\")\n",
    "    if idx >= 4:\n",
    "        break"
   ]
  },
  {
   "cell_type": "markdown",
   "id": "6a284df4",
   "metadata": {},
   "source": [
    "## (d) Modeling Implement a convolutional neural network to classify the digits in the MNIST dataset. Experiment with at least 3 hyperparameters. You may experiment with different CNN hyper-parameters, e.g. num of layers, filter size, stride, activation function, dropout, weight regularization, etc. Use the validation data to decide which combination of hyperparameters is best. Report the final classification accuracy on the validation dataset."
   ]
  },
  {
   "cell_type": "markdown",
   "id": "f1a0ff02-ec80-4527-808c-58275c604c0f",
   "metadata": {},
   "source": [
    "#### I first implement a convolutional neural network. Then, I experiment with different configurations by varying the filter size, activation function, and adding dropout layers to evaluate the performance of different models."
   ]
  },
  {
   "cell_type": "code",
   "execution_count": 14,
   "id": "1dbfa573",
   "metadata": {},
   "outputs": [],
   "source": [
    "class Conv_Net(nn.Module):\n",
    "    def __init__(self, filter_size = 3, dropout = False, activate = 'relu'):\n",
    "        super(Conv_Net, self).__init__()\n",
    "        \n",
    "        pad_size = filter_size // 2\n",
    "        self.conv1 = nn.Conv2d(1, 64, kernel_size=filter_size, stride=1, padding=pad_size)\n",
    "        self.act1 = nn.ReLU() if activate == 'relu' else nn.Sigmoid()\n",
    "        self.drop1 = nn.Dropout(p=0.5) if dropout else nn.Identity()\n",
    "        self.conv2 = nn.Conv2d(64, 128, kernel_size=filter_size, stride=1, padding=pad_size)\n",
    "        self.act2 = nn.ReLU() if activate == 'relu' else nn.Sigmoid()\n",
    "        self.pool = nn.MaxPool2d(stride=2, kernel_size=2)\n",
    "\n",
    "        self.fc1 = nn.Linear(14 * 14 * 128, 1024)\n",
    "        self.act3 = nn.ReLU() if activate == 'relu' else nn.Sigmoid()\n",
    "        self.drop2 = nn.Dropout(p=0.5) if dropout else nn.Identity()\n",
    "        self.fc2 = nn.Linear(1024, 10)\n",
    "        \n",
    "\n",
    "    def forward(self, x):\n",
    "        x = self.conv1(x)\n",
    "        x = self.act1(x)\n",
    "        x = self.drop1(x)\n",
    "        x = self.conv2(x)\n",
    "        x = self.act2(x)\n",
    "        x = self.pool(x)\n",
    "\n",
    "        x = torch.flatten(x, 1)\n",
    "        x = self.fc1(x)\n",
    "        x = self.act3(x)\n",
    "        x = self.drop2(x)\n",
    "        x = self.fc2(x)\n",
    "\n",
    "        return x"
   ]
  },
  {
   "cell_type": "markdown",
   "id": "a3770a08-a635-4191-a40c-084f31b1387a",
   "metadata": {},
   "source": [
    "#### Define a training function. At the beginning of training, set a fixed random seed to ensure more precise comparison of the performance of different models.\n",
    "\n",
    "\n",
    "\n"
   ]
  },
  {
   "cell_type": "code",
   "execution_count": 15,
   "id": "51547703",
   "metadata": {},
   "outputs": [],
   "source": [
    "def train(seed, model, train_loader, val_loader, epochs=15 ):\n",
    "    torch.manual_seed(seed)\n",
    "    torch.cuda.manual_seed_all(seed)\n",
    "    np.random.seed(seed)\n",
    "    torch.backends.cudnn.deterministic = True\n",
    "    torch.backends.cudnn.benchmark = False\n",
    "    device = torch.device(\"cuda:0\" if torch.cuda.is_available() else \"cpu\")\n",
    "    model.to(device)\n",
    "    optimizer = torch.optim.Adam(model.parameters())\n",
    "    loss_function = nn.CrossEntropyLoss()\n",
    "    for epoch in range(epochs):\n",
    "        print(f\"epoch {epoch}\")\n",
    "        for i, (images, labels) in enumerate(tqdm(train_dataloader)):\n",
    "            \n",
    "            images = images.to(device)\n",
    "            labels = labels.to(device)\n",
    "\n",
    "            outputs = model(images)\n",
    "            loss = loss_function(outputs, labels)\n",
    "\n",
    "            \n",
    "            optimizer.zero_grad()\n",
    "            loss.backward()\n",
    "            optimizer.step()\n",
    "        \n",
    "        with torch.no_grad():\n",
    "            correct = 0\n",
    "            total = 0\n",
    "            for images, labels in tqdm(val_dataloader):\n",
    "                images = images.to(device)\n",
    "                labels = labels.to(device)\n",
    "                outputs = model(images)\n",
    "                _, predicted = torch.max(outputs.data, 1)\n",
    "                total += labels.size(0)\n",
    "                correct += (predicted == labels).sum().item()\n",
    "\n",
    "            print(f'The classification accuracy of the network on the {total} test images is {100 * correct / total} %')"
   ]
  },
  {
   "cell_type": "markdown",
   "id": "e054b715-ab74-416a-b44b-91b1926752bc",
   "metadata": {},
   "source": [
    "#### I set the filter size to 3 and use the ReLU activation function without adding dropout layers. It is worth noting that after each training session, I transfer the model from the GPU to the CPU to prevent potential memory issues during subsequent training"
   ]
  },
  {
   "cell_type": "code",
   "execution_count": 16,
   "id": "167e73f4",
   "metadata": {
    "scrolled": true
   },
   "outputs": [
    {
     "name": "stdout",
     "output_type": "stream",
     "text": [
      "epoch 0\n"
     ]
    },
    {
     "name": "stderr",
     "output_type": "stream",
     "text": [
      "100%|████████████████████████████████████████████████████████████████████████████████████████████████████████████████████| 750/750 [00:14<00:00, 52.90it/s]\n",
      "100%|███████████████████████████████████████████████████████████████████████████████████████████████████████████████████| 188/188 [00:00<00:00, 208.07it/s]\n"
     ]
    },
    {
     "name": "stdout",
     "output_type": "stream",
     "text": [
      "The classification accuracy of the network on the 12000 test images is 98.13333333333334 %\n",
      "epoch 1\n"
     ]
    },
    {
     "name": "stderr",
     "output_type": "stream",
     "text": [
      "100%|████████████████████████████████████████████████████████████████████████████████████████████████████████████████████| 750/750 [00:11<00:00, 65.95it/s]\n",
      "100%|███████████████████████████████████████████████████████████████████████████████████████████████████████████████████| 188/188 [00:00<00:00, 232.18it/s]\n"
     ]
    },
    {
     "name": "stdout",
     "output_type": "stream",
     "text": [
      "The classification accuracy of the network on the 12000 test images is 98.51666666666667 %\n",
      "epoch 2\n"
     ]
    },
    {
     "name": "stderr",
     "output_type": "stream",
     "text": [
      "100%|████████████████████████████████████████████████████████████████████████████████████████████████████████████████████| 750/750 [00:11<00:00, 66.25it/s]\n",
      "100%|███████████████████████████████████████████████████████████████████████████████████████████████████████████████████| 188/188 [00:00<00:00, 231.90it/s]\n"
     ]
    },
    {
     "name": "stdout",
     "output_type": "stream",
     "text": [
      "The classification accuracy of the network on the 12000 test images is 98.65833333333333 %\n",
      "epoch 3\n"
     ]
    },
    {
     "name": "stderr",
     "output_type": "stream",
     "text": [
      "100%|████████████████████████████████████████████████████████████████████████████████████████████████████████████████████| 750/750 [00:11<00:00, 65.80it/s]\n",
      "100%|███████████████████████████████████████████████████████████████████████████████████████████████████████████████████| 188/188 [00:00<00:00, 233.33it/s]\n"
     ]
    },
    {
     "name": "stdout",
     "output_type": "stream",
     "text": [
      "The classification accuracy of the network on the 12000 test images is 98.61666666666666 %\n",
      "epoch 4\n"
     ]
    },
    {
     "name": "stderr",
     "output_type": "stream",
     "text": [
      "100%|████████████████████████████████████████████████████████████████████████████████████████████████████████████████████| 750/750 [00:11<00:00, 66.08it/s]\n",
      "100%|███████████████████████████████████████████████████████████████████████████████████████████████████████████████████| 188/188 [00:00<00:00, 233.19it/s]\n"
     ]
    },
    {
     "name": "stdout",
     "output_type": "stream",
     "text": [
      "The classification accuracy of the network on the 12000 test images is 98.63333333333334 %\n",
      "epoch 5\n"
     ]
    },
    {
     "name": "stderr",
     "output_type": "stream",
     "text": [
      "100%|████████████████████████████████████████████████████████████████████████████████████████████████████████████████████| 750/750 [00:11<00:00, 65.98it/s]\n",
      "100%|███████████████████████████████████████████████████████████████████████████████████████████████████████████████████| 188/188 [00:00<00:00, 233.19it/s]\n"
     ]
    },
    {
     "name": "stdout",
     "output_type": "stream",
     "text": [
      "The classification accuracy of the network on the 12000 test images is 98.65833333333333 %\n",
      "epoch 6\n"
     ]
    },
    {
     "name": "stderr",
     "output_type": "stream",
     "text": [
      "100%|████████████████████████████████████████████████████████████████████████████████████████████████████████████████████| 750/750 [00:11<00:00, 65.87it/s]\n",
      "100%|███████████████████████████████████████████████████████████████████████████████████████████████████████████████████| 188/188 [00:00<00:00, 220.24it/s]\n"
     ]
    },
    {
     "name": "stdout",
     "output_type": "stream",
     "text": [
      "The classification accuracy of the network on the 12000 test images is 98.79166666666667 %\n",
      "epoch 7\n"
     ]
    },
    {
     "name": "stderr",
     "output_type": "stream",
     "text": [
      "100%|████████████████████████████████████████████████████████████████████████████████████████████████████████████████████| 750/750 [00:11<00:00, 64.04it/s]\n",
      "100%|███████████████████████████████████████████████████████████████████████████████████████████████████████████████████| 188/188 [00:00<00:00, 214.10it/s]\n"
     ]
    },
    {
     "name": "stdout",
     "output_type": "stream",
     "text": [
      "The classification accuracy of the network on the 12000 test images is 98.89166666666667 %\n",
      "epoch 8\n"
     ]
    },
    {
     "name": "stderr",
     "output_type": "stream",
     "text": [
      "100%|████████████████████████████████████████████████████████████████████████████████████████████████████████████████████| 750/750 [00:11<00:00, 64.98it/s]\n",
      "100%|███████████████████████████████████████████████████████████████████████████████████████████████████████████████████| 188/188 [00:00<00:00, 238.21it/s]\n"
     ]
    },
    {
     "name": "stdout",
     "output_type": "stream",
     "text": [
      "The classification accuracy of the network on the 12000 test images is 98.65833333333333 %\n",
      "epoch 9\n"
     ]
    },
    {
     "name": "stderr",
     "output_type": "stream",
     "text": [
      "100%|████████████████████████████████████████████████████████████████████████████████████████████████████████████████████| 750/750 [00:11<00:00, 66.80it/s]\n",
      "100%|███████████████████████████████████████████████████████████████████████████████████████████████████████████████████| 188/188 [00:00<00:00, 240.18it/s]\n"
     ]
    },
    {
     "name": "stdout",
     "output_type": "stream",
     "text": [
      "The classification accuracy of the network on the 12000 test images is 98.55 %\n"
     ]
    },
    {
     "data": {
      "text/plain": [
       "Conv_Net(\n",
       "  (conv1): Conv2d(1, 64, kernel_size=(3, 3), stride=(1, 1), padding=(1, 1))\n",
       "  (act1): ReLU()\n",
       "  (drop1): Identity()\n",
       "  (conv2): Conv2d(64, 128, kernel_size=(3, 3), stride=(1, 1), padding=(1, 1))\n",
       "  (act2): ReLU()\n",
       "  (pool): MaxPool2d(kernel_size=2, stride=2, padding=0, dilation=1, ceil_mode=False)\n",
       "  (fc1): Linear(in_features=25088, out_features=1024, bias=True)\n",
       "  (act3): ReLU()\n",
       "  (drop2): Identity()\n",
       "  (fc2): Linear(in_features=1024, out_features=10, bias=True)\n",
       ")"
      ]
     },
     "execution_count": 16,
     "metadata": {},
     "output_type": "execute_result"
    }
   ],
   "source": [
    "model_1 = Conv_Net(filter_size=3, dropout=False, activate='relu')\n",
    "train(seed, model_1, train_dataloader, val_dataloader, epochs=num_epochs)\n",
    "model_1.cpu()"
   ]
  },
  {
   "cell_type": "markdown",
   "id": "9cde1f77-8bfc-4b06-9a86-3dae263387ea",
   "metadata": {
    "scrolled": true
   },
   "source": [
    "#### The accuracy on the validation set for the first configuration is 98.55%. Next I set the filter size to 5, keeping all other parameters unchanged.\n",
    "\n",
    "\n",
    "\n"
   ]
  },
  {
   "cell_type": "code",
   "execution_count": 17,
   "id": "0d2f5306",
   "metadata": {
    "scrolled": true
   },
   "outputs": [
    {
     "name": "stdout",
     "output_type": "stream",
     "text": [
      "epoch 0\n"
     ]
    },
    {
     "name": "stderr",
     "output_type": "stream",
     "text": [
      "100%|████████████████████████████████████████████████████████████████████████████████████████████████████████████████████| 750/750 [00:14<00:00, 50.47it/s]\n",
      "100%|███████████████████████████████████████████████████████████████████████████████████████████████████████████████████| 188/188 [00:01<00:00, 181.32it/s]\n"
     ]
    },
    {
     "name": "stdout",
     "output_type": "stream",
     "text": [
      "The classification accuracy of the network on the 12000 test images is 98.275 %\n",
      "epoch 1\n"
     ]
    },
    {
     "name": "stderr",
     "output_type": "stream",
     "text": [
      "100%|████████████████████████████████████████████████████████████████████████████████████████████████████████████████████| 750/750 [00:14<00:00, 50.48it/s]\n",
      "100%|███████████████████████████████████████████████████████████████████████████████████████████████████████████████████| 188/188 [00:01<00:00, 181.49it/s]\n"
     ]
    },
    {
     "name": "stdout",
     "output_type": "stream",
     "text": [
      "The classification accuracy of the network on the 12000 test images is 98.60833333333333 %\n",
      "epoch 2\n"
     ]
    },
    {
     "name": "stderr",
     "output_type": "stream",
     "text": [
      "100%|████████████████████████████████████████████████████████████████████████████████████████████████████████████████████| 750/750 [00:14<00:00, 50.36it/s]\n",
      "100%|███████████████████████████████████████████████████████████████████████████████████████████████████████████████████| 188/188 [00:01<00:00, 181.32it/s]\n"
     ]
    },
    {
     "name": "stdout",
     "output_type": "stream",
     "text": [
      "The classification accuracy of the network on the 12000 test images is 98.8 %\n",
      "epoch 3\n"
     ]
    },
    {
     "name": "stderr",
     "output_type": "stream",
     "text": [
      "100%|████████████████████████████████████████████████████████████████████████████████████████████████████████████████████| 750/750 [00:14<00:00, 50.46it/s]\n",
      "100%|███████████████████████████████████████████████████████████████████████████████████████████████████████████████████| 188/188 [00:01<00:00, 182.37it/s]\n"
     ]
    },
    {
     "name": "stdout",
     "output_type": "stream",
     "text": [
      "The classification accuracy of the network on the 12000 test images is 98.78333333333333 %\n",
      "epoch 4\n"
     ]
    },
    {
     "name": "stderr",
     "output_type": "stream",
     "text": [
      "100%|████████████████████████████████████████████████████████████████████████████████████████████████████████████████████| 750/750 [00:14<00:00, 50.49it/s]\n",
      "100%|███████████████████████████████████████████████████████████████████████████████████████████████████████████████████| 188/188 [00:01<00:00, 179.42it/s]\n"
     ]
    },
    {
     "name": "stdout",
     "output_type": "stream",
     "text": [
      "The classification accuracy of the network on the 12000 test images is 98.85833333333333 %\n",
      "epoch 5\n"
     ]
    },
    {
     "name": "stderr",
     "output_type": "stream",
     "text": [
      "100%|████████████████████████████████████████████████████████████████████████████████████████████████████████████████████| 750/750 [00:14<00:00, 50.34it/s]\n",
      "100%|███████████████████████████████████████████████████████████████████████████████████████████████████████████████████| 188/188 [00:01<00:00, 181.58it/s]\n"
     ]
    },
    {
     "name": "stdout",
     "output_type": "stream",
     "text": [
      "The classification accuracy of the network on the 12000 test images is 98.75 %\n",
      "epoch 6\n"
     ]
    },
    {
     "name": "stderr",
     "output_type": "stream",
     "text": [
      "100%|████████████████████████████████████████████████████████████████████████████████████████████████████████████████████| 750/750 [00:14<00:00, 50.35it/s]\n",
      "100%|███████████████████████████████████████████████████████████████████████████████████████████████████████████████████| 188/188 [00:01<00:00, 181.41it/s]\n"
     ]
    },
    {
     "name": "stdout",
     "output_type": "stream",
     "text": [
      "The classification accuracy of the network on the 12000 test images is 98.725 %\n",
      "epoch 7\n"
     ]
    },
    {
     "name": "stderr",
     "output_type": "stream",
     "text": [
      "100%|████████████████████████████████████████████████████████████████████████████████████████████████████████████████████| 750/750 [00:14<00:00, 50.15it/s]\n",
      "100%|███████████████████████████████████████████████████████████████████████████████████████████████████████████████████| 188/188 [00:01<00:00, 183.80it/s]\n"
     ]
    },
    {
     "name": "stdout",
     "output_type": "stream",
     "text": [
      "The classification accuracy of the network on the 12000 test images is 98.95 %\n",
      "epoch 8\n"
     ]
    },
    {
     "name": "stderr",
     "output_type": "stream",
     "text": [
      "100%|████████████████████████████████████████████████████████████████████████████████████████████████████████████████████| 750/750 [00:15<00:00, 49.58it/s]\n",
      "100%|███████████████████████████████████████████████████████████████████████████████████████████████████████████████████| 188/188 [00:01<00:00, 172.67it/s]\n"
     ]
    },
    {
     "name": "stdout",
     "output_type": "stream",
     "text": [
      "The classification accuracy of the network on the 12000 test images is 99.14166666666667 %\n",
      "epoch 9\n"
     ]
    },
    {
     "name": "stderr",
     "output_type": "stream",
     "text": [
      "100%|████████████████████████████████████████████████████████████████████████████████████████████████████████████████████| 750/750 [00:15<00:00, 49.01it/s]\n",
      "100%|███████████████████████████████████████████████████████████████████████████████████████████████████████████████████| 188/188 [00:01<00:00, 164.38it/s]"
     ]
    },
    {
     "name": "stdout",
     "output_type": "stream",
     "text": [
      "The classification accuracy of the network on the 12000 test images is 98.83333333333333 %\n"
     ]
    },
    {
     "name": "stderr",
     "output_type": "stream",
     "text": [
      "\n"
     ]
    },
    {
     "data": {
      "text/plain": [
       "Conv_Net(\n",
       "  (conv1): Conv2d(1, 64, kernel_size=(5, 5), stride=(1, 1), padding=(2, 2))\n",
       "  (act1): ReLU()\n",
       "  (drop1): Identity()\n",
       "  (conv2): Conv2d(64, 128, kernel_size=(5, 5), stride=(1, 1), padding=(2, 2))\n",
       "  (act2): ReLU()\n",
       "  (pool): MaxPool2d(kernel_size=2, stride=2, padding=0, dilation=1, ceil_mode=False)\n",
       "  (fc1): Linear(in_features=25088, out_features=1024, bias=True)\n",
       "  (act3): ReLU()\n",
       "  (drop2): Identity()\n",
       "  (fc2): Linear(in_features=1024, out_features=10, bias=True)\n",
       ")"
      ]
     },
     "execution_count": 17,
     "metadata": {},
     "output_type": "execute_result"
    }
   ],
   "source": [
    "model_2 = Conv_Net(filter_size=5, dropout=False, activate='relu')\n",
    "train(seed, model_2, train_dataloader, val_dataloader, epochs=num_epochs)\n",
    "model_2.cpu()"
   ]
  },
  {
   "cell_type": "markdown",
   "id": "4c9a6f18-d119-43b5-9b56-5763124e2fd4",
   "metadata": {
    "scrolled": true
   },
   "source": [
    "#### The second configuration achieves an accuracy of 98.833% on the validation set, which is higher than the previous best. Therefore, the optimal configuration is now: filter_size=5, dropout=False, activation='relu'. Next, I will change the activation function to nn.Sigmoid()."
   ]
  },
  {
   "cell_type": "code",
   "execution_count": 18,
   "id": "f3cac82f-9745-4aaa-a824-458f8ed51b66",
   "metadata": {
    "scrolled": true
   },
   "outputs": [
    {
     "name": "stdout",
     "output_type": "stream",
     "text": [
      "epoch 0\n"
     ]
    },
    {
     "name": "stderr",
     "output_type": "stream",
     "text": [
      "100%|████████████████████████████████████████████████████████████████████████████████████████████████████████████████████| 750/750 [00:15<00:00, 48.45it/s]\n",
      "100%|███████████████████████████████████████████████████████████████████████████████████████████████████████████████████| 188/188 [00:01<00:00, 178.99it/s]\n"
     ]
    },
    {
     "name": "stdout",
     "output_type": "stream",
     "text": [
      "The classification accuracy of the network on the 12000 test images is 10.141666666666667 %\n",
      "epoch 1\n"
     ]
    },
    {
     "name": "stderr",
     "output_type": "stream",
     "text": [
      "100%|████████████████████████████████████████████████████████████████████████████████████████████████████████████████████| 750/750 [00:15<00:00, 49.69it/s]\n",
      "100%|███████████████████████████████████████████████████████████████████████████████████████████████████████████████████| 188/188 [00:01<00:00, 182.37it/s]\n"
     ]
    },
    {
     "name": "stdout",
     "output_type": "stream",
     "text": [
      "The classification accuracy of the network on the 12000 test images is 11.375 %\n",
      "epoch 2\n"
     ]
    },
    {
     "name": "stderr",
     "output_type": "stream",
     "text": [
      "100%|████████████████████████████████████████████████████████████████████████████████████████████████████████████████████| 750/750 [00:15<00:00, 49.70it/s]\n",
      "100%|███████████████████████████████████████████████████████████████████████████████████████████████████████████████████| 188/188 [00:01<00:00, 179.42it/s]\n"
     ]
    },
    {
     "name": "stdout",
     "output_type": "stream",
     "text": [
      "The classification accuracy of the network on the 12000 test images is 9.95 %\n",
      "epoch 3\n"
     ]
    },
    {
     "name": "stderr",
     "output_type": "stream",
     "text": [
      "100%|████████████████████████████████████████████████████████████████████████████████████████████████████████████████████| 750/750 [00:15<00:00, 49.74it/s]\n",
      "100%|███████████████████████████████████████████████████████████████████████████████████████████████████████████████████| 188/188 [00:01<00:00, 182.73it/s]\n"
     ]
    },
    {
     "name": "stdout",
     "output_type": "stream",
     "text": [
      "The classification accuracy of the network on the 12000 test images is 10.141666666666667 %\n",
      "epoch 4\n"
     ]
    },
    {
     "name": "stderr",
     "output_type": "stream",
     "text": [
      "100%|████████████████████████████████████████████████████████████████████████████████████████████████████████████████████| 750/750 [00:15<00:00, 48.04it/s]\n",
      "100%|███████████████████████████████████████████████████████████████████████████████████████████████████████████████████| 188/188 [00:01<00:00, 174.35it/s]\n"
     ]
    },
    {
     "name": "stdout",
     "output_type": "stream",
     "text": [
      "The classification accuracy of the network on the 12000 test images is 9.425 %\n",
      "epoch 5\n"
     ]
    },
    {
     "name": "stderr",
     "output_type": "stream",
     "text": [
      "100%|████████████████████████████████████████████████████████████████████████████████████████████████████████████████████| 750/750 [00:15<00:00, 48.30it/s]\n",
      "100%|███████████████████████████████████████████████████████████████████████████████████████████████████████████████████| 188/188 [00:01<00:00, 159.11it/s]\n"
     ]
    },
    {
     "name": "stdout",
     "output_type": "stream",
     "text": [
      "The classification accuracy of the network on the 12000 test images is 9.95 %\n",
      "epoch 6\n"
     ]
    },
    {
     "name": "stderr",
     "output_type": "stream",
     "text": [
      "100%|████████████████████████████████████████████████████████████████████████████████████████████████████████████████████| 750/750 [00:15<00:00, 49.65it/s]\n",
      "100%|███████████████████████████████████████████████████████████████████████████████████████████████████████████████████| 188/188 [00:01<00:00, 181.15it/s]\n"
     ]
    },
    {
     "name": "stdout",
     "output_type": "stream",
     "text": [
      "The classification accuracy of the network on the 12000 test images is 10.141666666666667 %\n",
      "epoch 7\n"
     ]
    },
    {
     "name": "stderr",
     "output_type": "stream",
     "text": [
      "100%|████████████████████████████████████████████████████████████████████████████████████████████████████████████████████| 750/750 [00:15<00:00, 48.99it/s]\n",
      "100%|███████████████████████████████████████████████████████████████████████████████████████████████████████████████████| 188/188 [00:01<00:00, 176.39it/s]\n"
     ]
    },
    {
     "name": "stdout",
     "output_type": "stream",
     "text": [
      "The classification accuracy of the network on the 12000 test images is 11.375 %\n",
      "epoch 8\n"
     ]
    },
    {
     "name": "stderr",
     "output_type": "stream",
     "text": [
      "100%|████████████████████████████████████████████████████████████████████████████████████████████████████████████████████| 750/750 [00:15<00:00, 48.67it/s]\n",
      "100%|███████████████████████████████████████████████████████████████████████████████████████████████████████████████████| 188/188 [00:01<00:00, 175.49it/s]\n"
     ]
    },
    {
     "name": "stdout",
     "output_type": "stream",
     "text": [
      "The classification accuracy of the network on the 12000 test images is 9.491666666666667 %\n",
      "epoch 9\n"
     ]
    },
    {
     "name": "stderr",
     "output_type": "stream",
     "text": [
      "100%|████████████████████████████████████████████████████████████████████████████████████████████████████████████████████| 750/750 [00:15<00:00, 47.43it/s]\n",
      "100%|███████████████████████████████████████████████████████████████████████████████████████████████████████████████████| 188/188 [00:01<00:00, 168.58it/s]"
     ]
    },
    {
     "name": "stdout",
     "output_type": "stream",
     "text": [
      "The classification accuracy of the network on the 12000 test images is 10.291666666666666 %\n"
     ]
    },
    {
     "name": "stderr",
     "output_type": "stream",
     "text": [
      "\n"
     ]
    },
    {
     "data": {
      "text/plain": [
       "Conv_Net(\n",
       "  (conv1): Conv2d(1, 64, kernel_size=(5, 5), stride=(1, 1), padding=(2, 2))\n",
       "  (act1): Sigmoid()\n",
       "  (drop1): Identity()\n",
       "  (conv2): Conv2d(64, 128, kernel_size=(5, 5), stride=(1, 1), padding=(2, 2))\n",
       "  (act2): Sigmoid()\n",
       "  (pool): MaxPool2d(kernel_size=2, stride=2, padding=0, dilation=1, ceil_mode=False)\n",
       "  (fc1): Linear(in_features=25088, out_features=1024, bias=True)\n",
       "  (act3): Sigmoid()\n",
       "  (drop2): Identity()\n",
       "  (fc2): Linear(in_features=1024, out_features=10, bias=True)\n",
       ")"
      ]
     },
     "execution_count": 18,
     "metadata": {},
     "output_type": "execute_result"
    }
   ],
   "source": [
    "model_3 = Conv_Net(filter_size=5, dropout=False, activate='sigmoid')\n",
    "train(seed, model_3, train_dataloader, val_dataloader, epochs=num_epochs)\n",
    "model_3.cpu()"
   ]
  },
  {
   "cell_type": "markdown",
   "id": "6bfb9dea-2ae3-4088-8a3f-6f12ac359a0f",
   "metadata": {},
   "source": [
    "#### The third configuration achieves an accuracy of only 10.292% on the validation set, which is significantly lower than the previous results. Therefore, the optimal parameter settings remain unchanged: filter_size=5, dropout=False, activation='relu'. Next, I will add a dropout layer.\n",
    "\n",
    "\n",
    "\n"
   ]
  },
  {
   "cell_type": "code",
   "execution_count": 19,
   "id": "b7c04900-4e3c-46d8-a974-da40e87fa827",
   "metadata": {
    "scrolled": true
   },
   "outputs": [
    {
     "name": "stdout",
     "output_type": "stream",
     "text": [
      "epoch 0\n"
     ]
    },
    {
     "name": "stderr",
     "output_type": "stream",
     "text": [
      "100%|████████████████████████████████████████████████████████████████████████████████████████████████████████████████████| 750/750 [00:15<00:00, 49.05it/s]\n",
      "100%|███████████████████████████████████████████████████████████████████████████████████████████████████████████████████| 188/188 [00:01<00:00, 178.99it/s]\n"
     ]
    },
    {
     "name": "stdout",
     "output_type": "stream",
     "text": [
      "The classification accuracy of the network on the 12000 test images is 97.36666666666666 %\n",
      "epoch 1\n"
     ]
    },
    {
     "name": "stderr",
     "output_type": "stream",
     "text": [
      "100%|████████████████████████████████████████████████████████████████████████████████████████████████████████████████████| 750/750 [00:15<00:00, 48.78it/s]\n",
      "100%|███████████████████████████████████████████████████████████████████████████████████████████████████████████████████| 188/188 [00:01<00:00, 175.00it/s]\n"
     ]
    },
    {
     "name": "stdout",
     "output_type": "stream",
     "text": [
      "The classification accuracy of the network on the 12000 test images is 97.88333333333334 %\n",
      "epoch 2\n"
     ]
    },
    {
     "name": "stderr",
     "output_type": "stream",
     "text": [
      "100%|████████████████████████████████████████████████████████████████████████████████████████████████████████████████████| 750/750 [00:15<00:00, 49.26it/s]\n",
      "100%|███████████████████████████████████████████████████████████████████████████████████████████████████████████████████| 188/188 [00:01<00:00, 178.99it/s]\n"
     ]
    },
    {
     "name": "stdout",
     "output_type": "stream",
     "text": [
      "The classification accuracy of the network on the 12000 test images is 98.18333333333334 %\n",
      "epoch 3\n"
     ]
    },
    {
     "name": "stderr",
     "output_type": "stream",
     "text": [
      "100%|████████████████████████████████████████████████████████████████████████████████████████████████████████████████████| 750/750 [00:15<00:00, 49.56it/s]\n",
      "100%|███████████████████████████████████████████████████████████████████████████████████████████████████████████████████| 188/188 [00:01<00:00, 179.76it/s]\n"
     ]
    },
    {
     "name": "stdout",
     "output_type": "stream",
     "text": [
      "The classification accuracy of the network on the 12000 test images is 98.3 %\n",
      "epoch 4\n"
     ]
    },
    {
     "name": "stderr",
     "output_type": "stream",
     "text": [
      "100%|████████████████████████████████████████████████████████████████████████████████████████████████████████████████████| 750/750 [00:15<00:00, 49.17it/s]\n",
      "100%|███████████████████████████████████████████████████████████████████████████████████████████████████████████████████| 188/188 [00:01<00:00, 168.50it/s]\n"
     ]
    },
    {
     "name": "stdout",
     "output_type": "stream",
     "text": [
      "The classification accuracy of the network on the 12000 test images is 98.23333333333333 %\n",
      "epoch 5\n"
     ]
    },
    {
     "name": "stderr",
     "output_type": "stream",
     "text": [
      "100%|████████████████████████████████████████████████████████████████████████████████████████████████████████████████████| 750/750 [00:15<00:00, 48.21it/s]\n",
      "100%|███████████████████████████████████████████████████████████████████████████████████████████████████████████████████| 188/188 [00:01<00:00, 163.74it/s]\n"
     ]
    },
    {
     "name": "stdout",
     "output_type": "stream",
     "text": [
      "The classification accuracy of the network on the 12000 test images is 98.36666666666666 %\n",
      "epoch 6\n"
     ]
    },
    {
     "name": "stderr",
     "output_type": "stream",
     "text": [
      "100%|████████████████████████████████████████████████████████████████████████████████████████████████████████████████████| 750/750 [00:15<00:00, 49.74it/s]\n",
      "100%|███████████████████████████████████████████████████████████████████████████████████████████████████████████████████| 188/188 [00:01<00:00, 173.31it/s]\n"
     ]
    },
    {
     "name": "stdout",
     "output_type": "stream",
     "text": [
      "The classification accuracy of the network on the 12000 test images is 98.53333333333333 %\n",
      "epoch 7\n"
     ]
    },
    {
     "name": "stderr",
     "output_type": "stream",
     "text": [
      "100%|████████████████████████████████████████████████████████████████████████████████████████████████████████████████████| 750/750 [00:15<00:00, 49.48it/s]\n",
      "100%|███████████████████████████████████████████████████████████████████████████████████████████████████████████████████| 188/188 [00:01<00:00, 170.66it/s]\n"
     ]
    },
    {
     "name": "stdout",
     "output_type": "stream",
     "text": [
      "The classification accuracy of the network on the 12000 test images is 98.175 %\n",
      "epoch 8\n"
     ]
    },
    {
     "name": "stderr",
     "output_type": "stream",
     "text": [
      "100%|████████████████████████████████████████████████████████████████████████████████████████████████████████████████████| 750/750 [00:15<00:00, 49.27it/s]\n",
      "100%|███████████████████████████████████████████████████████████████████████████████████████████████████████████████████| 188/188 [00:01<00:00, 179.59it/s]\n"
     ]
    },
    {
     "name": "stdout",
     "output_type": "stream",
     "text": [
      "The classification accuracy of the network on the 12000 test images is 98.64166666666667 %\n",
      "epoch 9\n"
     ]
    },
    {
     "name": "stderr",
     "output_type": "stream",
     "text": [
      "100%|████████████████████████████████████████████████████████████████████████████████████████████████████████████████████| 750/750 [00:15<00:00, 49.70it/s]\n",
      "100%|███████████████████████████████████████████████████████████████████████████████████████████████████████████████████| 188/188 [00:01<00:00, 178.57it/s]"
     ]
    },
    {
     "name": "stdout",
     "output_type": "stream",
     "text": [
      "The classification accuracy of the network on the 12000 test images is 98.375 %\n"
     ]
    },
    {
     "name": "stderr",
     "output_type": "stream",
     "text": [
      "\n"
     ]
    },
    {
     "data": {
      "text/plain": [
       "Conv_Net(\n",
       "  (conv1): Conv2d(1, 64, kernel_size=(5, 5), stride=(1, 1), padding=(2, 2))\n",
       "  (act1): ReLU()\n",
       "  (drop1): Dropout(p=0.5, inplace=False)\n",
       "  (conv2): Conv2d(64, 128, kernel_size=(5, 5), stride=(1, 1), padding=(2, 2))\n",
       "  (act2): ReLU()\n",
       "  (pool): MaxPool2d(kernel_size=2, stride=2, padding=0, dilation=1, ceil_mode=False)\n",
       "  (fc1): Linear(in_features=25088, out_features=1024, bias=True)\n",
       "  (act3): ReLU()\n",
       "  (drop2): Dropout(p=0.5, inplace=False)\n",
       "  (fc2): Linear(in_features=1024, out_features=10, bias=True)\n",
       ")"
      ]
     },
     "execution_count": 19,
     "metadata": {},
     "output_type": "execute_result"
    }
   ],
   "source": [
    "model_4 = Conv_Net(filter_size=5, dropout=True, activate='relu')\n",
    "train(seed, model_4, train_dataloader, val_dataloader, epochs=num_epochs)\n",
    "model_4.cpu()"
   ]
  },
  {
   "cell_type": "markdown",
   "id": "9098eee1-117c-4c5f-b24c-ca04f297ba36",
   "metadata": {},
   "source": [
    "#### The fourth configuration yields an accuracy of 98.375% on the validation set, which does not surpass the previous best result. Consequently, the optimal parameter settings remain unchanged, being: filter_size=5, dropout=False, activation='relu'.\n",
    "\n",
    "\n",
    "\n"
   ]
  },
  {
   "cell_type": "markdown",
   "id": "8177c08d-1f03-4007-b346-6c79bb64eabc",
   "metadata": {},
   "source": [
    "#### In conclusion, the optimal configuration is filter_size=5, dropout=False, activation='relu', under which the model achieves an accuracy of 98.833% on the validation set."
   ]
  },
  {
   "cell_type": "markdown",
   "id": "249d9b3a-d48d-41f2-8c3a-811fb8c1c3cd",
   "metadata": {},
   "source": [
    "## (g) Inference Use the best fine-tuned model for inference on the test dataset. Save your predictions for every row of the test data in a CSV file with the name FirstName LastName Preds.csv(Do not shuffle the test data)"
   ]
  },
  {
   "cell_type": "code",
   "execution_count": 20,
   "id": "82360cc5-8b77-439d-9d65-3b98db6cfbde",
   "metadata": {
    "scrolled": true
   },
   "outputs": [
    {
     "name": "stderr",
     "output_type": "stream",
     "text": [
      "100%|███████████████████████████████████████████████████████████████████████████████████████████████████████████████| 10000/10000 [00:17<00:00, 563.95it/s]\n"
     ]
    }
   ],
   "source": [
    "import csv\n",
    "f = open(\"Chonglin_Zhang_Preds.csv\",'w',encoding='UTF-8', newline='')\n",
    "writer = csv.writer(f)\n",
    "device = torch.device(\"cuda:0\" if torch.cuda.is_available() else \"cpu\")\n",
    "model_2.to(device)\n",
    "model_2.eval()\n",
    "for i,each_test_data in enumerate(tqdm(x_test)):\n",
    "    each_test_data = transform(each_test_data.astype(np.float32)).unsqueeze(0)\n",
    "    each_test_data = each_test_data.to(device)\n",
    "    result = model_2(each_test_data)\n",
    "    _, pred = torch.max(result.data, 1)\n",
    "    writer.writerow(str(pred.item()))\n",
    "f.close()"
   ]
  },
  {
   "cell_type": "markdown",
   "id": "890dcb20-70a0-4d0d-93e8-4fdffe4f6466",
   "metadata": {},
   "source": [
    "## BONUS: Filter Visualization Randomly pick an image from the training set. Visualize the feature maps corresponding to all convolution filters after the first and last convolution layers.s."
   ]
  },
  {
   "cell_type": "markdown",
   "id": "02262342-8e32-40b4-89a6-a8be5af16fbe",
   "metadata": {},
   "source": [
    "#### First, print the structure of the model. Since the model consists of two convolutional layers, I extract the outputs from these two layers.\n",
    "\n",
    "\n",
    "\n"
   ]
  },
  {
   "cell_type": "code",
   "execution_count": 21,
   "id": "f15774e6-2014-46f3-a58f-3ce8529ac563",
   "metadata": {},
   "outputs": [
    {
     "name": "stdout",
     "output_type": "stream",
     "text": [
      "['', 'conv1', 'act1', 'drop1', 'conv2', 'act2', 'pool', 'fc1', 'act3', 'drop2', 'fc2']\n",
      "Conv_Net(\n",
      "  (conv1): Conv2d(1, 64, kernel_size=(5, 5), stride=(1, 1), padding=(2, 2))\n",
      "  (act1): ReLU()\n",
      "  (drop1): Identity()\n",
      "  (conv2): Conv2d(64, 128, kernel_size=(5, 5), stride=(1, 1), padding=(2, 2))\n",
      "  (act2): ReLU()\n",
      "  (pool): MaxPool2d(kernel_size=2, stride=2, padding=0, dilation=1, ceil_mode=False)\n",
      "  (fc1): Linear(in_features=25088, out_features=1024, bias=True)\n",
      "  (act3): ReLU()\n",
      "  (drop2): Identity()\n",
      "  (fc2): Linear(in_features=1024, out_features=10, bias=True)\n",
      ")\n"
     ]
    }
   ],
   "source": [
    "name_list=[]\n",
    "for (name, module) in model_2.named_modules():\n",
    "    name_list.append(name)\n",
    "print(name_list)\n",
    "print(model_2)"
   ]
  },
  {
   "cell_type": "code",
   "execution_count": 22,
   "id": "300c5ec6-3b13-4e2a-9aee-b617a3eb6de0",
   "metadata": {},
   "outputs": [],
   "source": [
    "import torchvision\n",
    "extract_model = torchvision.models._utils.IntermediateLayerGetter(model_2,{'conv1': 'first_conv_layer', 'conv2': 'last_conv_layer'})\n",
    "import random\n",
    "choice_sample = img_train[random.randint(0,len(img_train)-1)]\n",
    "choice_sample = transform(choice_sample.astype(np.float32)).unsqueeze(0).to(device)\n",
    "result = extract_model(choice_sample)\n"
   ]
  },
  {
   "cell_type": "markdown",
   "id": "7ae68a72-145c-42db-a8be-fa6912b31e57",
   "metadata": {},
   "source": [
    "#### The first layer's feature map comprises 64 channels.\n",
    "\n",
    "\n",
    "\n"
   ]
  },
  {
   "cell_type": "code",
   "execution_count": 23,
   "id": "170717a0-69ad-44c2-87c9-9f3da366f9be",
   "metadata": {},
   "outputs": [
    {
     "data": {
      "image/png": "[encoded data removed]",
      "text/plain": [
       "<Figure size 640x480 with 64 Axes>"
      ]
     },
     "metadata": {},
     "output_type": "display_data"
    }
   ],
   "source": [
    "first_feature_map = result['first_conv_layer'].squeeze(0).cpu().detach().numpy()\n",
    "for i in range(64):\n",
    "    plt.subplot(8, 8, i + 1)\n",
    "    plt.imshow(first_feature_map[i], cmap='gray', interpolation='none')\n",
    "    plt.xticks([])\n",
    "    plt.yticks([])\n",
    "plt.show()"
   ]
  },
  {
   "cell_type": "markdown",
   "id": "b45c48bf-170b-4099-b889-d46084e2b5ac",
   "metadata": {},
   "source": [
    "#### The last layer's feature map comprises 128 channels.\n",
    "\n"
   ]
  },
  {
   "cell_type": "code",
   "execution_count": 24,
   "id": "f0d9acb2-1a0b-4f02-983e-bc023e78b335",
   "metadata": {},
   "outputs": [
    {
     "data": {
      "image/png": "[encoded data removed]",
      "text/plain": [
       "<Figure size 640x480 with 128 Axes>"
      ]
     },
     "metadata": {},
     "output_type": "display_data"
    }
   ],
   "source": [
    "last_feature_map = result['last_conv_layer'].squeeze(0).cpu().detach().numpy()\n",
    "for i in range(128):\n",
    "    plt.subplot(8, 16, i + 1)\n",
    "    plt.imshow(last_feature_map[i], cmap='gray', interpolation='none')\n",
    "    plt.xticks([])\n",
    "    plt.yticks([])\n",
    "plt.show()"
   ]
  }
 ],
 "metadata": {
  "kernelspec": {
   "display_name": "Python 3 (ipykernel)",
   "language": "python",
   "name": "python3"
  },
  "language_info": {
   "codemirror_mode": {
    "name": "ipython",
    "version": 3
   },
   "file_extension": ".py",
   "mimetype": "text/x-python",
   "name": "python",
   "nbconvert_exporter": "python",
   "pygments_lexer": "ipython3",
   "version": "3.10.12"
  }
 },
 "nbformat": 4,
 "nbformat_minor": 5
}
